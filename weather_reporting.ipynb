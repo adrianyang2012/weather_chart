{
  "nbformat": 4,
  "nbformat_minor": 0,
  "metadata": {
    "colab": {
      "private_outputs": true,
      "provenance": [],
      "authorship_tag": "ABX9TyOcMBWiM8IA4h6V78v8QAZ2",
      "include_colab_link": true
    },
    "kernelspec": {
      "name": "python3",
      "display_name": "Python 3"
    },
    "language_info": {
      "name": "python"
    }
  },
  "cells": [
    {
      "cell_type": "markdown",
      "metadata": {
        "id": "view-in-github",
        "colab_type": "text"
      },
      "source": [
        "<a href=\"https://colab.research.google.com/github/adrianyang2012/weather_chart/blob/main/weather_reporting.ipynb\" target=\"_parent\"><img src=\"https://colab.research.google.com/assets/colab-badge.svg\" alt=\"Open In Colab\"/></a>"
      ]
    },
    {
      "cell_type": "code",
      "execution_count": null,
      "metadata": {
        "id": "OKR4BsLnEysg"
      },
      "outputs": [],
      "source": [
        "weather_reports_temp = []\n",
        "weather_reports_weather = []\n",
        "import matplotlib.pyplot as plt\n",
        "days_of_week = ['mon','tue','wen','thu','fri','sat','sun']\n",
        "for i in range(0,7):\n",
        "  weather_reports_temp.append(int(input('type the temapture: ')))\n",
        "  weather_reports_weather.append(input('type the weather: '))\n",
        "weather_reports_weather.append('')\n",
        "for i in range(0,len(weather_reports_temp)):\n",
        "  print(days_of_week[i],end = '')\n",
        "  print(' '*(len(weather_reports_weather[i])-3), end = ' ')\n",
        "  \n",
        "print('\\n')\n",
        "\n",
        "for i in range(0,len(weather_reports_temp)):\n",
        "  print(weather_reports_temp[i],end = '')\n",
        "  print('| '+' '*(len(weather_reports_weather[i])-len(str(weather_reports_temp[i]))-1),end = '')\n",
        "print('\\n')\n",
        "for i in range(0,len(weather_reports_temp)):\n",
        "  print(weather_reports_weather[i], end = \"|\")\n",
        "print(f'\\naverage temp for this week {sum(weather_reports_temp)/len(weather_reports_temp)}')\n",
        "\n",
        "plt.scatter(3,sum(weather_reports_temp)/len(weather_reports_temp),s = 100)\n",
        "plt.text(3,sum(weather_reports_temp)/len(weather_reports_temp),'average for this week')\n",
        "plt.plot([21 for i in range(0,7)])\n",
        "plt.text(0,21,'average for taiwain')\n",
        "plt.plot([38 for i in range(0,7)])\n",
        "plt.text(0,38,'hot for taiwain')\n",
        "plt.plot([10 for i in range(0,7)])\n",
        "plt.text(0,10,'cold for taiwain')\n",
        "plt.plot(weather_reports_temp)\n",
        "plt.plot([0,7],[weather_reports_temp[0],weather_reports_temp[-1]])\n",
        "plt.xlabel('mon          tue           wen            thu           fri           sat          sun')\n",
        "plt.show()\n"
      ]
    }
  ]
}